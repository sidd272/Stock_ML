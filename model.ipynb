{
 "cells": [
  {
   "cell_type": "code",
   "execution_count": 5,
   "metadata": {},
   "outputs": [],
   "source": [
    "import pandas as pd"
   ]
  },
  {
   "cell_type": "code",
   "execution_count": 6,
   "metadata": {},
   "outputs": [],
   "source": [
    "df = pd.read_csv('NIFTY_2010.csv')"
   ]
  },
  {
   "cell_type": "code",
   "execution_count": 7,
   "metadata": {},
   "outputs": [
    {
     "name": "stdout",
     "output_type": "stream",
     "text": [
      "<class 'pandas.core.frame.DataFrame'>\n"
     ]
    }
   ],
   "source": [
    "print(type(df))"
   ]
  },
  {
   "cell_type": "code",
   "execution_count": 8,
   "metadata": {},
   "outputs": [
    {
     "data": {
      "text/html": [
       "<div>\n",
       "<style scoped>\n",
       "    .dataframe tbody tr th:only-of-type {\n",
       "        vertical-align: middle;\n",
       "    }\n",
       "\n",
       "    .dataframe tbody tr th {\n",
       "        vertical-align: top;\n",
       "    }\n",
       "\n",
       "    .dataframe thead th {\n",
       "        text-align: right;\n",
       "    }\n",
       "</style>\n",
       "<table border=\"1\" class=\"dataframe\">\n",
       "  <thead>\n",
       "    <tr style=\"text-align: right;\">\n",
       "      <th></th>\n",
       "      <th>Instrument</th>\n",
       "      <th>Date</th>\n",
       "      <th>Time</th>\n",
       "      <th>Open</th>\n",
       "      <th>High</th>\n",
       "      <th>Low</th>\n",
       "      <th>Close</th>\n",
       "    </tr>\n",
       "  </thead>\n",
       "  <tbody>\n",
       "    <tr>\n",
       "      <th>0</th>\n",
       "      <td>NIFTY</td>\n",
       "      <td>20100104</td>\n",
       "      <td>09:31</td>\n",
       "      <td>5201.00</td>\n",
       "      <td>5224.00</td>\n",
       "      <td>5167.00</td>\n",
       "      <td>5216.00</td>\n",
       "    </tr>\n",
       "    <tr>\n",
       "      <th>1</th>\n",
       "      <td>NIFTY</td>\n",
       "      <td>20100104</td>\n",
       "      <td>09:32</td>\n",
       "      <td>5216.00</td>\n",
       "      <td>5216.00</td>\n",
       "      <td>5215.00</td>\n",
       "      <td>5215.00</td>\n",
       "    </tr>\n",
       "    <tr>\n",
       "      <th>2</th>\n",
       "      <td>NIFTY</td>\n",
       "      <td>20100104</td>\n",
       "      <td>09:33</td>\n",
       "      <td>5215.00</td>\n",
       "      <td>5216.00</td>\n",
       "      <td>5215.00</td>\n",
       "      <td>5216.00</td>\n",
       "    </tr>\n",
       "    <tr>\n",
       "      <th>3</th>\n",
       "      <td>NIFTY</td>\n",
       "      <td>20100104</td>\n",
       "      <td>09:34</td>\n",
       "      <td>5216.00</td>\n",
       "      <td>5217.00</td>\n",
       "      <td>5216.00</td>\n",
       "      <td>5217.00</td>\n",
       "    </tr>\n",
       "    <tr>\n",
       "      <th>4</th>\n",
       "      <td>NIFTY</td>\n",
       "      <td>20100104</td>\n",
       "      <td>09:35</td>\n",
       "      <td>5217.00</td>\n",
       "      <td>5217.00</td>\n",
       "      <td>5216.00</td>\n",
       "      <td>5217.00</td>\n",
       "    </tr>\n",
       "    <tr>\n",
       "      <th>...</th>\n",
       "      <td>...</td>\n",
       "      <td>...</td>\n",
       "      <td>...</td>\n",
       "      <td>...</td>\n",
       "      <td>...</td>\n",
       "      <td>...</td>\n",
       "      <td>...</td>\n",
       "    </tr>\n",
       "    <tr>\n",
       "      <th>96678</th>\n",
       "      <td>NIFTY</td>\n",
       "      <td>20101231</td>\n",
       "      <td>15:26</td>\n",
       "      <td>6133.55</td>\n",
       "      <td>6133.60</td>\n",
       "      <td>6130.85</td>\n",
       "      <td>6130.85</td>\n",
       "    </tr>\n",
       "    <tr>\n",
       "      <th>96679</th>\n",
       "      <td>NIFTY</td>\n",
       "      <td>20101231</td>\n",
       "      <td>15:27</td>\n",
       "      <td>6130.65</td>\n",
       "      <td>6131.05</td>\n",
       "      <td>6126.35</td>\n",
       "      <td>6127.50</td>\n",
       "    </tr>\n",
       "    <tr>\n",
       "      <th>96680</th>\n",
       "      <td>NIFTY</td>\n",
       "      <td>20101231</td>\n",
       "      <td>15:28</td>\n",
       "      <td>6127.75</td>\n",
       "      <td>6129.50</td>\n",
       "      <td>6127.25</td>\n",
       "      <td>6128.15</td>\n",
       "    </tr>\n",
       "    <tr>\n",
       "      <th>96681</th>\n",
       "      <td>NIFTY</td>\n",
       "      <td>20101231</td>\n",
       "      <td>15:29</td>\n",
       "      <td>6128.00</td>\n",
       "      <td>6129.50</td>\n",
       "      <td>6127.70</td>\n",
       "      <td>6129.20</td>\n",
       "    </tr>\n",
       "    <tr>\n",
       "      <th>96682</th>\n",
       "      <td>NIFTY</td>\n",
       "      <td>20101231</td>\n",
       "      <td>15:30</td>\n",
       "      <td>6128.90</td>\n",
       "      <td>6131.50</td>\n",
       "      <td>6126.20</td>\n",
       "      <td>6127.70</td>\n",
       "    </tr>\n",
       "  </tbody>\n",
       "</table>\n",
       "<p>96683 rows × 7 columns</p>\n",
       "</div>"
      ],
      "text/plain": [
       "      Instrument      Date   Time     Open     High      Low    Close\n",
       "0          NIFTY  20100104  09:31  5201.00  5224.00  5167.00  5216.00\n",
       "1          NIFTY  20100104  09:32  5216.00  5216.00  5215.00  5215.00\n",
       "2          NIFTY  20100104  09:33  5215.00  5216.00  5215.00  5216.00\n",
       "3          NIFTY  20100104  09:34  5216.00  5217.00  5216.00  5217.00\n",
       "4          NIFTY  20100104  09:35  5217.00  5217.00  5216.00  5217.00\n",
       "...          ...       ...    ...      ...      ...      ...      ...\n",
       "96678      NIFTY  20101231  15:26  6133.55  6133.60  6130.85  6130.85\n",
       "96679      NIFTY  20101231  15:27  6130.65  6131.05  6126.35  6127.50\n",
       "96680      NIFTY  20101231  15:28  6127.75  6129.50  6127.25  6128.15\n",
       "96681      NIFTY  20101231  15:29  6128.00  6129.50  6127.70  6129.20\n",
       "96682      NIFTY  20101231  15:30  6128.90  6131.50  6126.20  6127.70\n",
       "\n",
       "[96683 rows x 7 columns]"
      ]
     },
     "execution_count": 8,
     "metadata": {},
     "output_type": "execute_result"
    }
   ],
   "source": [
    "df"
   ]
  },
  {
   "cell_type": "code",
   "execution_count": 9,
   "metadata": {},
   "outputs": [
    {
     "name": "stdout",
     "output_type": "stream",
     "text": [
      "{0: 360, 1: 390, 2: 390, 3: 390, 4: 390, 7: 390, 8: 390, 9: 390, 10: 390, 11: 390, 14: 390, 15: 390, 16: 390, 17: 390, 18: 390, 21: 390, 23: 382, 24: 390, 25: 390, 97: 390, 98: 390, 99: 390, 100: 390, 101: 378, 102: 90, 104: 390, 105: 389, 106: 390, 107: 390, 111: 390, 112: 390, 113: 390, 114: 390, 115: 390, 118: 390, 119: 390, 120: 390, 121: 390, 122: 390, 198: 390, 199: 390, 200: 390, 201: 390, 204: 390, 205: 390, 206: 390, 207: 390, 208: 390, 211: 390, 212: 390, 213: 390, 214: 390, 215: 390, 218: 390, 219: 390, 221: 390, 222: 390, 225: 390, 226: 390, 227: 390, 297: 390, 301: 390, 302: 390, 303: 390, 304: 390, 305: 390, 308: 390, 309: 390, 311: 390, 312: 390, 315: 390, 316: 390, 317: 390, 318: 390, 319: 390, 322: 390, 323: 390, 324: 390, 325: 390, 326: 390, 399: 390, 400: 390, 401: 390, 402: 390, 403: 390, 406: 390, 407: 390, 408: 390, 409: 390, 410: 390, 413: 390, 414: 390, 415: 390, 416: 390, 417: 390, 420: 390, 421: 390, 422: 390, 423: 390, 424: 390, 427: 390, 497: 390, 498: 390, 499: 390, 500: 390, 503: 390, 504: 390, 505: 390, 506: 390, 507: 390, 510: 390, 511: 390, 512: 390, 513: 390, 514: 390, 517: 390, 518: 390, 519: 390, 520: 390, 521: 390, 524: 390, 525: 388, 526: 390, 597: 390, 598: 390, 601: 390, 602: 390, 603: 390, 604: 390, 605: 390, 608: 390, 609: 390, 610: 390, 611: 390, 612: 390, 615: 390, 616: 390, 617: 390, 618: 388, 619: 390, 622: 390, 623: 390, 624: 390, 625: 390, 626: 390, 698: 390, 699: 390, 700: 390, 701: 390, 702: 390, 705: 390, 706: 390, 707: 390, 708: 390, 709: 390, 712: 390, 713: 390, 714: 390, 715: 390, 716: 388, 719: 390, 720: 390, 721: 390, 722: 390, 723: 390, 726: 390, 727: 390, 797: 389, 798: 390, 799: 390, 802: 390, 803: 390, 804: 390, 805: 390, 809: 352, 810: 390, 811: 390, 812: 390, 813: 390, 816: 362, 817: 390, 818: 390, 819: 390, 820: 390, 823: 390, 824: 390, 825: 390, 826: 389, 897: 389, 900: 390, 901: 390, 902: 390, 903: 378, 904: 384, 907: 390, 908: 390, 909: 390, 910: 390, 911: 390, 914: 376, 915: 376, 916: 376, 917: 376, 918: 376, 921: 376, 922: 376, 923: 376, 924: 376, 925: 376, 997: 375, 998: 374, 999: 376, 1000: 375, 1004: 376, 1005: 374, 1006: 376, 1007: 376, 1008: 376, 1011: 376, 1012: 376, 1014: 376, 1015: 376, 1018: 376, 1019: 376, 1020: 376, 1021: 375, 1022: 376, 1025: 376, 1026: 376, 1097: 376, 1098: 376, 1099: 376, 1102: 376, 1103: 376, 1104: 376, 1105: 376, 1106: 376, 1109: 376, 1110: 376, 1111: 376, 1112: 375, 1116: 376, 1117: 376, 1118: 376, 1119: 376, 1120: 376, 1123: 376, 1124: 376, 1125: 376, 1126: 357, 1127: 368}\n"
     ]
    }
   ],
   "source": [
    "\n",
    "datecount = dict()\n",
    "for i in range(96683):\n",
    "    date = df['Date'][i] - 20100104\n",
    "    if(datecount.get(date) is not None):\n",
    "        datecount[date]+= 1\n",
    "    else:\n",
    "        datecount[date] = 1\n",
    "    \n",
    "print(datecount)\n"
   ]
  },
  {
   "cell_type": "code",
   "execution_count": 55,
   "metadata": {},
   "outputs": [
    {
     "data": {
      "text/plain": [
       "251"
      ]
     },
     "execution_count": 55,
     "metadata": {},
     "output_type": "execute_result"
    }
   ],
   "source": [
    "df.Date.nunique()"
   ]
  },
  {
   "cell_type": "code",
   "execution_count": 10,
   "metadata": {},
   "outputs": [
    {
     "name": "stdout",
     "output_type": "stream",
     "text": [
      "           Date     Open     High      Low    Close\n",
      "0    20100104.0  5201.00  5238.00  5167.00  5235.00\n",
      "1    20100105.0  5277.00  5288.00  5242.00  5274.00\n",
      "2    20100106.0  5278.00  5311.00  5260.00  5281.00\n",
      "3    20100107.0  5281.80  5302.55  5244.75  5256.60\n",
      "4    20100108.0  5264.25  5276.75  5234.70  5247.00\n",
      "..          ...      ...      ...      ...      ...\n",
      "246  20101227.0  6013.30  6045.75  5991.10  5993.00\n",
      "247  20101228.0  6005.35  6010.90  5982.25  5995.90\n",
      "248  20101229.0  6005.15  6067.55  6002.85  6063.05\n",
      "249  20101230.0  6062.35  6106.40  6062.35  6090.50\n",
      "250  20101231.0  6105.10  6147.30  6103.55  6127.70\n",
      "\n",
      "[251 rows x 5 columns]\n"
     ]
    }
   ],
   "source": [
    "def convert_to_day(df):\n",
    "    NoOfDays = df['Date'].nunique()\n",
    "    newdf = pd.DataFrame({'Date' : [],'Open' : [],'High' : [],'Low': [], 'Close' : []})\n",
    "    i = 0\n",
    "    while i < 96683:\n",
    "        # newdf.columns = ['Date','Open','High','Low','Close']\n",
    "        day   = df['Date'][i]\n",
    "        count = df['Date'].value_counts()[day]\n",
    "        open  = df['Open'][i]  \n",
    "        close = df['Close'][count +i - 1]\n",
    "        high = 0\n",
    "        low = 100000\n",
    "        for j in range(count):\n",
    "            if(low > df['Low'][i+ j]):\n",
    "                low = df['Low'][i + j]\n",
    "            if(high < df['High'][i+j]):\n",
    "                high= df['High'][i+j]\n",
    "        i = i + count\n",
    "        new_record = pd.DataFrame([{'Date' : day,'Open' : open, 'High' : high, 'Low' : low, 'Close' : close}])\n",
    "        newdf = pd.concat([newdf,new_record],ignore_index=True)\n",
    "    return newdf\n",
    "daily = convert_to_day(df)\n",
    "print(daily)"
   ]
  },
  {
   "cell_type": "code",
   "execution_count": 23,
   "metadata": {},
   "outputs": [
    {
     "name": "stdout",
     "output_type": "stream",
     "text": [
      "            Date Start 15     Open     High      Low   Close\n",
      "0     20100104.0    09:31  5201.00  5224.00  5167.00  5215.0\n",
      "1     20100104.0    09:46  5215.00  5215.00  5213.00  5220.0\n",
      "2     20100104.0    10:01  5220.00  5219.00  5218.00  5219.0\n",
      "3     20100104.0    10:16  5220.00  5218.00  5216.00  5222.0\n",
      "4     20100104.0    10:31  5222.00  5222.00  5221.00  5226.0\n",
      "...          ...      ...      ...      ...      ...     ...\n",
      "6487  20101231.0    14:23  6138.30  6135.20  6133.35  6140.7\n",
      "6488  20101231.0    14:38  6140.55  6138.35  6135.95  6136.3\n",
      "6489  20101231.0    14:53  6136.15  6131.65  6128.20  6139.2\n",
      "6490  20101231.0    15:08  6139.45  6136.30  6133.70  6135.7\n",
      "6491  20101231.0    15:23  6135.55  6131.50  6126.20  6127.7\n",
      "\n",
      "[6492 rows x 6 columns]\n"
     ]
    }
   ],
   "source": [
    "def convert_to_15_min(df):\n",
    "    NoOzfDays = df['Date'].nunique()\n",
    "    newdf = pd.DataFrame({'Date' : [],'Start 15': [],'Open' : [],'High' : [],'Low': [], 'Close' : []})\n",
    "    i = 0\n",
    "    size = int(df.shape[0])\n",
    "    while i < size:\n",
    "        # newdf.columns = ['Date','Open','High','Low','Close']\n",
    "        count = 0\n",
    "        starttime = df['Time'][i]\n",
    "        day   = df['Date'][i]\n",
    "        if(i >= (size - 15)):\n",
    "            count = size - i\n",
    "        elif df['Date'][i] == df['Date'][i+15]:\n",
    "            count = 15\n",
    "        else:\n",
    "            j = i\n",
    "            while df['Date'][i] == df['Date'][j] and count < 15:\n",
    "                count+=1\n",
    "                j+=1\n",
    "        open  = df['Open'][i]  \n",
    "        close = df['Close'][count +i - 1]\n",
    "        high = 0\n",
    "        low = 100000\n",
    "        for j in range(count):\n",
    "            if(i+j >=size):\n",
    "                break\n",
    "            if(low > df['Low'][i+ j]):\n",
    "                low = df['Low'][i + j]\n",
    "                high= df['High'][i+j]\n",
    "        i = i + count\n",
    "        new_record = pd.DataFrame([{'Date' : day,'Start 15': starttime,'Open' : open, 'High' : high, 'Low' : low, 'Close' : close}])\n",
    "        newdf = pd.concat([newdf,new_record],ignore_index=True)\n",
    "    return newdf\n",
    "minutes_15 = convert_to_15_min(df)\n",
    "print(minutes_15)"
   ]
  },
  {
   "cell_type": "code",
   "execution_count": 24,
   "metadata": {},
   "outputs": [
    {
     "name": "stdout",
     "output_type": "stream",
     "text": [
      "             Date Start 5     Open     High      Low    Close\n",
      "0      20100104.0   09:31  5201.00  5224.00  5167.00  5217.00\n",
      "1      20100104.0   09:36  5218.00  5218.00  5214.00  5215.00\n",
      "2      20100104.0   09:41  5215.00  5214.00  5212.00  5215.00\n",
      "3      20100104.0   09:46  5215.00  5215.00  5213.00  5214.00\n",
      "4      20100104.0   09:51  5214.00  5215.00  5213.00  5219.00\n",
      "...           ...     ...      ...      ...      ...      ...\n",
      "19373  20101231.0   15:08  6139.45  6136.25  6133.95  6134.80\n",
      "19374  20101231.0   15:13  6134.70  6136.35  6134.20  6135.85\n",
      "19375  20101231.0   15:18  6136.15  6136.30  6133.70  6135.70\n",
      "19376  20101231.0   15:23  6135.55  6131.05  6126.35  6127.50\n",
      "19377  20101231.0   15:28  6127.75  6131.50  6126.20  6127.70\n",
      "\n",
      "[19378 rows x 6 columns]\n"
     ]
    }
   ],
   "source": [
    "def convert_to_5_min(df):\n",
    "    NoOzfDays = df['Date'].nunique()\n",
    "    newdf = pd.DataFrame({'Date' : [],'Start 5': [],'Open' : [],'High' : [],'Low': [], 'Close' : []})\n",
    "    i = 0\n",
    "    size = int(df.shape[0])\n",
    "    while i < size:\n",
    "        # newdf.columns = ['Date','Open','High','Low','Close']\n",
    "        count = 0\n",
    "        starttime = df['Time'][i]\n",
    "        day   = df['Date'][i]\n",
    "        if(i >= (size - 5)):\n",
    "            count = size - i\n",
    "        elif df['Date'][i] == df['Date'][i+5]:\n",
    "            count = 5\n",
    "        else:\n",
    "            j = i\n",
    "            while df['Date'][i] == df['Date'][j] and count < 5:\n",
    "                count+=1\n",
    "                j+=1\n",
    "        open  = df['Open'][i]  \n",
    "        close = df['Close'][count +i - 1]\n",
    "        high = 0\n",
    "        low = 100000\n",
    "        for j in range(count):\n",
    "            if(i+j >=size):\n",
    "                break\n",
    "            if(low > df['Low'][i+ j]):\n",
    "                low = df['Low'][i + j]\n",
    "                high= df['High'][i+j]\n",
    "        i = i + count\n",
    "        new_record = pd.DataFrame([{'Date' : day,'Start 5': starttime,'Open' : open, 'High' : high, 'Low' : low, 'Close' : close}])\n",
    "        newdf = pd.concat([newdf,new_record],ignore_index=True)\n",
    "    return newdf\n",
    "minutes_5 = convert_to_5_min(df)\n",
    "print(minutes_5)"
   ]
  },
  {
   "cell_type": "code",
   "execution_count": null,
   "metadata": {},
   "outputs": [],
   "source": []
  }
 ],
 "metadata": {
  "kernelspec": {
   "display_name": "Python 3",
   "language": "python",
   "name": "python3"
  },
  "language_info": {
   "codemirror_mode": {
    "name": "ipython",
    "version": 3
   },
   "file_extension": ".py",
   "mimetype": "text/x-python",
   "name": "python",
   "nbconvert_exporter": "python",
   "pygments_lexer": "ipython3",
   "version": "3.10.11"
  },
  "orig_nbformat": 4
 },
 "nbformat": 4,
 "nbformat_minor": 2
}
